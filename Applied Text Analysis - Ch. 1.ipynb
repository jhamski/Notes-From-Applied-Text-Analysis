{
 "cells": [
  {
   "cell_type": "markdown",
   "metadata": {},
   "source": [
    "# Applied Text Analysis with Python, 1st Edition \n",
    "\n",
    "### by Benjamin Bengfort, Tony Ojeda, Rebecca Bilbro\n",
    "\n",
    "## Ch. 1 Language and Computation"
   ]
  },
  {
   "cell_type": "markdown",
   "metadata": {},
   "source": [
    "Machine learning is, as artificial intelligence pioneer Arthur Samuel said, a method of computing that gives machines “the ability to learn without being explicitly programmed.”"
   ]
  },
  {
   "cell_type": "markdown",
   "metadata": {},
   "source": [
    "Our view of applied text analytics is the creation of “language-aware data products”, meaning user-facing applications that perform machine learning on text. The end-result is applications that are more responsive to human input (text input for this book, though these methods also follow voice transcription), are impressively accurate, can adapt to change, and are relatively simple to design through a process of feature extraction, model selection and evaluation."
   ]
  },
  {
   "cell_type": "markdown",
   "metadata": {},
   "source": [
    "#### What is Language?"
   ]
  },
  {
   "cell_type": "markdown",
   "metadata": {},
   "source": [
    "We must disambiguate between the components of language that concern the transmission of information and those that concern the information itself. The process of “extracting meaning” is elucidated through a process called feature analysis; what features, properties, or dimensions about our text best demonstrate its meaning and underlying structure? As we will see throughout the book, the representation of the underlying linguistic structure we use largely determines how successful we will be."
   ]
  },
  {
   "cell_type": "markdown",
   "metadata": {},
   "source": [
    "Determining a representation requires us to define the units of language — the things that we count, measure, analyze, or learn from. We will soon see that there are many levels to which we can apply our analysis. \n",
    "\n",
    "Note: see Baleen: http://baleen-ingest.readthedocs.io/en/v0.2/about/ \n",
    "\n",
    "Corpora - collections of documents  \n",
    "Corpus - a single collection of documents  \n",
    "Documents - contain text and maybe other metadata, always contain a set of related ideas.   \n",
    "Paragraphs - documents can be broken into paragraphs, i.e. single units of *discourse*, where each generally expresses a single idea.  \n",
    "Sentences - paragraphs are broken into sentences, i.e. units of *syntax*. They are made up of words and punctuation, i.e. *lexical* units that indicate general meaning but are far more useful in combination.   \n",
    "Words - made up of syllables, phonemes, affixes, and characters, units that are only meaningful when combined into words.\n",
    "\n"
   ]
  },
  {
   "cell_type": "markdown",
   "metadata": {},
   "source": []
  }
 ],
 "metadata": {
  "kernelspec": {
   "display_name": "Python 3",
   "language": "python",
   "name": "python3"
  },
  "language_info": {
   "codemirror_mode": {
    "name": "ipython",
    "version": 3
   },
   "file_extension": ".py",
   "mimetype": "text/x-python",
   "name": "python",
   "nbconvert_exporter": "python",
   "pygments_lexer": "ipython3",
   "version": "3.6.0"
  }
 },
 "nbformat": 4,
 "nbformat_minor": 2
}
